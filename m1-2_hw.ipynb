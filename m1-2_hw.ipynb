{
 "cells": [
  {
   "cell_type": "markdown",
   "metadata": {},
   "source": [
    "### Типы данных str, int, float и методы строк"
   ]
  },
  {
   "cell_type": "markdown",
   "metadata": {},
   "source": [
    "1. Попросите пользователя ввести его имя через функцию `input()` и выведите приветствие с использованием f-строк."
   ]
  },
  {
   "cell_type": "code",
   "execution_count": null,
   "metadata": {},
   "outputs": [],
   "source": [
    "имя = input(\"Введите ваше имя: \")\n",
    "print(f\"Привет, {имя}!\")"
   ]
  },
  {
   "cell_type": "markdown",
   "metadata": {},
   "source": [
    "2. Создайте переменную типа `int` со значением 42 и преобразуйте её в строку. Выведите результат на экран <button class='citation-flag' data-index='2'>."
   ]
  },
  {
   "cell_type": "code",
   "execution_count": null,
   "metadata": {},
   "outputs": [],
   "source": [
    "число = 42\n",
    "строка = str(число)\n",
    "print(строка)"
   ]
  },
  {
   "cell_type": "markdown",
   "metadata": {},
   "source": [
    "3. Запросите у пользователя два числа, сложите их и выведите результат с помощью функции `print()`. "
   ]
  },
  {
   "cell_type": "code",
   "execution_count": null,
   "metadata": {},
   "outputs": [],
   "source": [
    "число1 = int(input(\"Введите первое число: \"))\n",
    "число2 = int(input(\"Введите второе число: \"))\n",
    "сумма = число1 + число2\n",
    "print(\"Сумма:\", сумма)"
   ]
  },
  {
   "cell_type": "markdown",
   "metadata": {},
   "source": [
    "4. Спросите у пользователя его возраст и проверьте, является ли он числом, используя метод `.isdigit()`."
   ]
  },
  {
   "cell_type": "code",
   "execution_count": null,
   "metadata": {},
   "outputs": [],
   "source": [
    "возраст = input(\"Введите ваш возраст: \")\n",
    "if возраст.isdigit():\n",
    "    print(\"Ваш возраст:\", возраст)\n",
    "else:\n",
    "    print(\"Некорректный возраст\")"
   ]
  },
  {
   "cell_type": "markdown",
   "metadata": {},
   "source": [
    "5. Напишите программу, которая принимает строку от пользователя и выводит её в верхнем регистре."
   ]
  },
  {
   "cell_type": "code",
   "execution_count": null,
   "metadata": {},
   "outputs": [],
   "source": [
    "строка = input(\"Введите строку: \")\n",
    "print(строка.upper())"
   ]
  },
  {
   "cell_type": "markdown",
   "metadata": {},
   "source": [
    "6. Дана строка \"hello world\". Используя метод `.split()`, разделите строку по пробелам и выведите получившийся список."
   ]
  },
  {
   "cell_type": "code",
   "execution_count": null,
   "metadata": {},
   "outputs": [],
   "source": [
    "строка = \"hello world\"\n",
    "список = строка.split()\n",
    "print(список)"
   ]
  },
  {
   "cell_type": "markdown",
   "metadata": {},
   "source": [
    "7. Дан текст. Определите количество букв 'a' в этом тексте с помощью метода `.count()`."
   ]
  },
  {
   "cell_type": "code",
   "execution_count": null,
   "metadata": {},
   "outputs": [],
   "source": [
    "текст = \"hello world\"\n",
    "количество = текст.count('a')\n",
    "print(\"Количество букв 'a':\", количество)"
   ]
  },
  {
   "cell_type": "markdown",
   "metadata": {},
   "source": [
    "8. Попросите пользователя ввести предложение. Проверьте, начинается ли оно с буквы 'а', используя метод `.startswith()`."
   ]
  },
  {
   "cell_type": "code",
   "execution_count": null,
   "metadata": {},
   "outputs": [],
   "source": [
    "предложение = input(\"Введите предложение: \")\n",
    "if предложение.startswith('а'):\n",
    "    print(\"Предложение начинается с буквы 'а'\")\n",
    "else:\n",
    "    print(\"Предложение не начинается с буквы 'а'\")"
   ]
  },
  {
   "cell_type": "markdown",
   "metadata": {},
   "source": [
    "9. Напишите программу, которая заменяет все пробелы в строке на символы подчёркивания '_'."
   ]
  },
  {
   "cell_type": "code",
   "execution_count": null,
   "metadata": {},
   "outputs": [],
   "source": [
    "строка = \"hello world\"\n",
    "новая_строка = строка.replace(' ', '_')\n",
    "print(новая_строка)"
   ]
  },
  {
   "cell_type": "markdown",
   "metadata": {},
   "source": [
    "10. Дан список слов. Объедините их в одну строку, где слова разделены запятыми, используя метод `.join()`. "
   ]
  },
  {
   "cell_type": "code",
   "execution_count": null,
   "metadata": {},
   "outputs": [],
   "source": [
    "список = [\"hello\", \"world\", \"python\"]\n",
    "строка = ','.join(список)\n",
    "print(строка)"
   ]
  },
  {
   "cell_type": "markdown",
   "metadata": {},
   "source": [
    "11. Попросите пользователя ввести строку и найдите индекс первого вхождения буквы 'e'."
   ]
  },
  {
   "cell_type": "code",
   "execution_count": null,
   "metadata": {},
   "outputs": [],
   "source": [
    "строка = input(\"Введите строку: \")\n",
    "индекс = строка.find('e')\n",
    "print(\"Индекс буквы 'e':\", индекс)"
   ]
  },
  {
   "cell_type": "markdown",
   "metadata": {},
   "source": [
    "12. Создайте программу, которая принимает строку и выводит её в обратном порядке."
   ]
  },
  {
   "cell_type": "code",
   "execution_count": null,
   "metadata": {},
   "outputs": [],
   "source": [
    "строка = input(\"Введите строку: \")\n",
    "обратная_строка = строка[::-1]\n",
    "print(обратная_строка)"
   ]
  },
  {
   "cell_type": "markdown",
   "metadata": {},
   "source": [
    "13. Напишите код, который преобразует температуру из градусов Цельсия в Фаренгейты и наоборот, используя формулы конвертации."
   ]
  },
  {
   "cell_type": "code",
   "execution_count": null,
   "metadata": {},
   "outputs": [],
   "source": [
    "def цельсий_в_фаренгейты(цельсий):\n",
    "    фаренгейты = (цельсий * 9/5) + 32\n",
    "    return фаренгейты\n",
    "\n",
    "def фаренгейты_в_цельсий(фаренгейты):\n",
    "    цельсий = (фаренгейты - 32) * 5/9\n",
    "    return цельсий\n",
    "\n",
    "цельсий = float(input(\"Введите температуру в градусах Цельсия: \"))\n",
    "фаренгейты = цельсий_в_фаренгейты(цельсий)\n",
    "print(\"Температура в градусах Фаренгейта:\", фаренгейты)\n",
    "\n",
    "фаренгейты = float(input(\"Введите температуру в градусах Фаренгейта: \"))\n",
    "цельсий = фаренгейты_в_цельсий(фаренгейты)\n",
    "print(\"Температура в градусах Цельсия:\", цельсий)"
   ]
  },
  {
   "cell_type": "markdown",
   "metadata": {},
   "source": [
    "14. Запросите у пользователя строку и удалите из неё все цифры."
   ]
  },
  {
   "cell_type": "code",
   "execution_count": null,
   "metadata": {},
   "outputs": [],
   "source": [
    "строка = input(\"Введите строку: \")\n",
    "новая_строка = ''.join([символ for символ in строка if not символ.isdigit()])\n",
    "print(новая_строка)"
   ]
  },
  {
   "cell_type": "markdown",
   "metadata": {},
   "source": [
    "15. Напишите программу, которая спрашивает у пользователя строку и выводит только уникальные символы этой строки."
   ]
  },
  {
   "cell_type": "code",
   "execution_count": null,
   "metadata": {},
   "outputs": [],
   "source": [
    "строка = input(\"Введите строку: \")\n",
    "уникальные_символы = set(строка)\n",
    "print(уникальные_символы)"
   ]
  },
  {
   "cell_type": "markdown",
   "metadata": {},
   "source": [
    "16. Напишите функцию, которая принимает строку и возвращает её без повторяющихся символов."
   ]
  },
  {
   "cell_type": "code",
   "execution_count": null,
   "metadata": {},
   "outputs": [],
   "source": [
    "def удалить_повторы(строка):\n",
    "    уникальные_символы = set(строка)\n",
    "    return ''.join(уникальные_символы)\n",
    "\n",
    "строка = input(\"Введите строку: \")\n",
    "print(удалить_повторы(строка))"
   ]
  },
  {
   "cell_type": "markdown",
   "metadata": {},
   "source": [
    "### Итерируемые типы данных: list, dict, set"
   ]
  },
  {
   "cell_type": "markdown",
   "metadata": {},
   "source": [
    "#### Lists"
   ]
  },
  {
   "cell_type": "markdown",
   "metadata": {},
   "source": [
    "1. Создайте список из трёх элементов и выведите его содержимое."
   ]
  },
  {
   "cell_type": "code",
   "execution_count": null,
   "metadata": {},
   "outputs": [],
   "source": [
    "список_элементоф = [1, 2, 3]\n",
    "print(список)"
   ]
  },
  {
   "cell_type": "markdown",
   "metadata": {},
   "source": [
    "2. Дан список чисел. Найдите сумму всех элементов списка."
   ]
  },
  {
   "cell_type": "code",
   "execution_count": null,
   "metadata": {},
   "outputs": [],
   "source": [
    "список = [1, 2, 3, 4, 5]\n",
    "сумма = sum(список)\n",
    "print(сумма)"
   ]
  },
  {
   "cell_type": "markdown",
   "metadata": {},
   "source": [
    "3. Напишите программу, которая добавляет число в конец списка, если его там ещё нет."
   ]
  },
  {
   "cell_type": "code",
   "execution_count": null,
   "metadata": {},
   "outputs": [],
   "source": [
    "список = [1, 2, 3]\n",
    "число = int(input(\"Введите число: \"))\n",
    "if число not in список:\n",
    "    список.append(число)\n",
    "print(список)"
   ]
  },
  {
   "cell_type": "markdown",
   "metadata": {},
   "source": [
    "4. Удалите последний элемент списка и выведите обновлённый список."
   ]
  },
  {
   "cell_type": "code",
   "execution_count": null,
   "metadata": {},
   "outputs": [],
   "source": [
    "список = [1, 2, 3, 4, 5]\n",
    "список.pop()\n",
    "print(список)"
   ]
  },
  {
   "cell_type": "markdown",
   "metadata": {},
   "source": [
    "5. Дан список строк. Найдите самую длинную строку в списке."
   ]
  },
  {
   "cell_type": "code",
   "execution_count": null,
   "metadata": {},
   "outputs": [],
   "source": [
    "список = [\"hello\", \"world\", \"python\"]\n",
    "самая_длинная_строка = max(список, key=len)\n",
    "print(самая_длинная_строка)"
   ]
  },
  {
   "cell_type": "markdown",
   "metadata": {},
   "source": [
    "6. Создайте список чисел и найдите среднее арифметическое этих чисел."
   ]
  },
  {
   "cell_type": "code",
   "execution_count": null,
   "metadata": {},
   "outputs": [],
   "source": [
    "список = [1, 2, 3, 4, 5]\n",
    "среднее = sum(список) / len(список)\n",
    "print(среднее)"
   ]
  },
  {
   "cell_type": "markdown",
   "metadata": {},
   "source": [
    "7. Дан список имён. Отсортируйте этот список в алфавитном порядке."
   ]
  },
  {
   "cell_type": "code",
   "execution_count": null,
   "metadata": {},
   "outputs": [],
   "source": [
    "список = [\"John\", \"Alice\", \"Bob\"]\n",
    "список.sort()\n",
    "print(список)"
   ]
  },
  {
   "cell_type": "markdown",
   "metadata": {},
   "source": [
    "8. Напишите программу, которая объединяет два списка без дублирования элементов."
   ]
  },
  {
   "cell_type": "code",
   "execution_count": null,
   "metadata": {},
   "outputs": [],
   "source": []
  },
  {
   "cell_type": "markdown",
   "metadata": {},
   "source": [
    "9. Создайте список чисел и найдите произведение всех чётных чисел в нём."
   ]
  },
  {
   "cell_type": "code",
   "execution_count": null,
   "metadata": {},
   "outputs": [],
   "source": [
    "список = [1, 2, 3]\n",
    "число = int(input(\"Введите число: \"))\n",
    "if число not in список:\n",
    "    список.append(число)\n",
    "print(список)"
   ]
  },
  {
   "cell_type": "markdown",
   "metadata": {},
   "source": [
    "10. Напишите код, который создаёт копию списка с помощью метода `.copy()`."
   ]
  },
  {
   "cell_type": "code",
   "execution_count": null,
   "metadata": {},
   "outputs": [],
   "source": [
    "список = [1, 2, 3, 4, 5]\n",
    "список.pop()\n",
    "print(список)"
   ]
  },
  {
   "cell_type": "markdown",
   "metadata": {},
   "source": [
    "11. Дан список чисел. Найдите второе наибольшее число в списке."
   ]
  },
  {
   "cell_type": "code",
   "execution_count": null,
   "metadata": {},
   "outputs": [],
   "source": [
    "список = [\"hello\", \"world\", \"python\"]\n",
    "самая_длинная_строка = max(список, key=len)\n",
    "print(самая_длинная_строка)"
   ]
  },
  {
   "cell_type": "markdown",
   "metadata": {},
   "source": [
    "12. Создайте список чисел и найдите разницу между максимальным и минимальным значениями."
   ]
  },
  {
   "cell_type": "code",
   "execution_count": null,
   "metadata": {},
   "outputs": [],
   "source": [
    "список = [1, 2, 3, 4, 5]\n",
    "разница = max(список) - min(список)\n",
    "print(разница)"
   ]
  },
  {
   "cell_type": "markdown",
   "metadata": {},
   "source": [
    "13. Напишите программу, которая переворачивает список (последний элемент становится первым)."
   ]
  },
  {
   "cell_type": "code",
   "execution_count": null,
   "metadata": {},
   "outputs": [],
   "source": [
    "список = [1, 2, 3, 4, 5]\n",
    "список.reverse()\n",
    "print(список)"
   ]
  },
  {
   "cell_type": "markdown",
   "metadata": {},
   "source": [
    "14. Дан список чисел. Удалите все чётные числа из списка."
   ]
  },
  {
   "cell_type": "code",
   "execution_count": null,
   "metadata": {},
   "outputs": [],
   "source": [
    "список = [1, 2, 3, 4, 5]\n",
    "список = [число for число in список if число % 2 != 0]\n",
    "print(список)"
   ]
  },
  {
   "cell_type": "markdown",
   "metadata": {},
   "source": [
    "15. Создайте список чисел и найдите количество уникальных элементов в нём."
   ]
  },
  {
   "cell_type": "code",
   "execution_count": null,
   "metadata": {},
   "outputs": [],
   "source": [
    "список = [1, 2, 2, 3, 4, 4, 5]\n",
    "количество_уникальных_элементов = len(set(список))\n",
    "print(количество_уникальных_элементов)"
   ]
  },
  {
   "cell_type": "markdown",
   "metadata": {},
   "source": [
    "#### Dictionaries"
   ]
  },
  {
   "cell_type": "markdown",
   "metadata": {},
   "source": [
    "1. Создайте словарь с тремя парами ключ-значение и выведите его содержимое."
   ]
  },
  {
   "cell_type": "code",
   "execution_count": null,
   "metadata": {},
   "outputs": [],
   "source": [
    "словарь = {\"имя\": \"Иван\", \"возраст\": 25, \"город\": \"Москва\"}\n",
    "print(словарь)"
   ]
  },
  {
   "cell_type": "markdown",
   "metadata": {},
   "source": [
    "2. Дан словарь. Добавьте новую пару ключ-значение."
   ]
  },
  {
   "cell_type": "code",
   "execution_count": null,
   "metadata": {},
   "outputs": [],
   "source": [
    "словарь = {\"имя\": \"Иван\", \"возраст\": 25, \"город\": \"Москва\"}\n",
    "словарь[\"страна\"] = \"Россия\"\n",
    "print(словарь)"
   ]
  },
  {
   "cell_type": "markdown",
   "metadata": {},
   "source": [
    "3. Удалите элемент из словаря по ключу."
   ]
  },
  {
   "cell_type": "code",
   "execution_count": null,
   "metadata": {},
   "outputs": [],
   "source": [
    "словарь = {\"имя\": \"Иван\", \"возраст\": 25, \"город\": \"Москва\"}\n",
    "del словарь[\"город\"]\n",
    "print(словарь)"
   ]
  },
  {
   "cell_type": "markdown",
   "metadata": {},
   "source": [
    "4. Напишите программу, которая проверяет наличие ключа в словаре."
   ]
  },
  {
   "cell_type": "code",
   "execution_count": null,
   "metadata": {},
   "outputs": [],
   "source": [
    "словарь = {\"имя\": \"Иван\", \"возраст\": 25, \"город\": \"Москва\"}\n",
    "ключ = \"город\"\n",
    "if ключ in словарь:\n",
    "    print(\"Ключ найден\")\n",
    "else:\n",
    "    print(\"Ключ не найден\")"
   ]
  },
  {
   "cell_type": "markdown",
   "metadata": {},
   "source": [
    "5. Дан словарь. Найдите сумму всех значений в словаре."
   ]
  },
  {
   "cell_type": "code",
   "execution_count": null,
   "metadata": {},
   "outputs": [],
   "source": [
    "словарь = {\"имя\": \"Иван\", \"возраст\": 25, \"город\": \"Москва\"}\n",
    "сумма = sum(словарь.values())\n",
    "print(сумма)"
   ]
  },
  {
   "cell_type": "markdown",
   "metadata": {},
   "source": [
    "6. Создайте словарь и найдите ключ с максимальным значением."
   ]
  },
  {
   "cell_type": "code",
   "execution_count": null,
   "metadata": {},
   "outputs": [],
   "source": [
    "словарь = {\"имя\": \"Иван\", \"возраст\": 25, \"город\": \"Москва\"}\n",
    "ключ_с_максимальным_значением = max(словарь, key=словарь.get)\n",
    "print(ключ_с_максимальным_значением)"
   ]
  },
  {
   "cell_type": "markdown",
   "metadata": {},
   "source": [
    "7. Напишите код, который меняет местами ключи и значения в словаре."
   ]
  },
  {
   "cell_type": "code",
   "execution_count": null,
   "metadata": {},
   "outputs": [],
   "source": [
    "словарь = {\"имя\": \"Иван\", \"возраст\": 25, \"город\": \"Москва\"}\n",
    "новый_словарь = {значение: ключ for ключ, значение in словарь.items()}\n",
    "print(новый_словарь)"
   ]
  },
  {
   "cell_type": "markdown",
   "metadata": {},
   "source": [
    "8. Дан словарь. Найдите среднее значение всех значений в словаре."
   ]
  },
  {
   "cell_type": "code",
   "execution_count": null,
   "metadata": {},
   "outputs": [],
   "source": [
    "словарь = {\"имя\": \"Иван\", \"возраст\": 25, \"город\": \"Москва\"}\n",
    "среднее = sum(словарь.values()) / len(словарь)\n",
    "print(среднее)"
   ]
  },
  {
   "cell_type": "markdown",
   "metadata": {},
   "source": [
    "9. Создайте словарь и найдите ключ с минимальным значением."
   ]
  },
  {
   "cell_type": "code",
   "execution_count": null,
   "metadata": {},
   "outputs": [],
   "source": [
    "словарь = {\"имя\": \"Иван\", \"возраст\": 25, \"город\": \"Москва\"}\n",
    "ключ_с_минимальным_значением = min(словарь, key=словарь.get)\n",
    "print(ключ_с_минимальным_значением)"
   ]
  },
  {
   "cell_type": "markdown",
   "metadata": {},
   "source": [
    "10. Напишите программу, которая объединяет два словаря."
   ]
  },
  {
   "cell_type": "code",
   "execution_count": null,
   "metadata": {},
   "outputs": [],
   "source": [
    "словарь1 = {\"имя\": \"Иван\", \"возраст\": 25}\n",
    "словарь2 = {\"город\": \"Москва\", \"страна\": \"Россия\"}\n",
    "словарь1.update(словарь2)\n",
    "print(словарь1)"
   ]
  },
  {
   "cell_type": "markdown",
   "metadata": {},
   "source": [
    "11. Дан словарь. Удалите все элементы, значения которых равны None."
   ]
  },
  {
   "cell_type": "code",
   "execution_count": null,
   "metadata": {},
   "outputs": [],
   "source": [
    "словарь = {\"имя\": \"Иван\", \"возраст\": 25, \"город\": None}\n",
    "словарь = {ключ: значение for ключ, значение in словарь.items() if значение is not None}\n",
    "print(словарь)"
   ]
  },
  {
   "cell_type": "markdown",
   "metadata": {},
   "source": [
    "12. Создайте словарь и найдите количество уникальных значений."
   ]
  },
  {
   "cell_type": "code",
   "execution_count": null,
   "metadata": {},
   "outputs": [],
   "source": [
    "словарь = {\"имя\": \"Иван\", \"возраст\": 25, \"город\": \"Москва\"}\n",
    "количество_уникальных_значений = len(set(словарь.values()))\n",
    "print(количество_уникальных_значений)"
   ]
  },
  {
   "cell_type": "markdown",
   "metadata": {},
   "source": [
    "13. Напишите код, который создаёт словарь из двух списков, где один список содержит ключи, а другой — значения."
   ]
  },
  {
   "cell_type": "code",
   "execution_count": null,
   "metadata": {},
   "outputs": [],
   "source": [
    "ключи = [\"имя\", \"возраст\", \"город\"]\n",
    "значения = [\"Иван\", 25, \"Москва"
   ]
  },
  {
   "cell_type": "markdown",
   "metadata": {},
   "source": [
    "14. Дан словарь. Найдите все ключи, значения которых больше определённого числа."
   ]
  },
  {
   "cell_type": "code",
   "execution_count": null,
   "metadata": {},
   "outputs": [],
   "source": [
    "словарь = {\"имя\": \"Иван\", \"возраст\": 25, \"город\": \"Москва\"}\n",
    "число = 20\n",
    "ключи = [ключ for ключ, значение in словарь.items() if значение > число]\n",
    "print(ключи)"
   ]
  },
  {
   "cell_type": "markdown",
   "metadata": {},
   "source": [
    "15. Создайте словарь и найдите разницу между максимальным и минимальным значениями."
   ]
  },
  {
   "cell_type": "code",
   "execution_count": null,
   "metadata": {},
   "outputs": [],
   "source": [
    "словарь = {\"имя\": \"Иван\", \"возраст\": 25, \"город\": \"Москва\"}\n",
    "максимальное_значение = max(словарь.values())\n",
    "минимальное_значение = min(словарь.values())\n",
    "разница = максимальное_значение - минимальное_значение\n",
    "print(разница)"
   ]
  },
  {
   "cell_type": "markdown",
   "metadata": {},
   "source": [
    "#### Sets"
   ]
  },
  {
   "cell_type": "markdown",
   "metadata": {},
   "source": [
    "1. Создайте множество из трёх элементов и выведите его содержимое."
   ]
  },
  {
   "cell_type": "code",
   "execution_count": null,
   "metadata": {},
   "outputs": [],
   "source": [
    "множество = {1, 2, 3}\n",
    "print(множество)"
   ]
  },
  {
   "cell_type": "markdown",
   "metadata": {},
   "source": [
    "2. Даны два множества. Найдите их пересечение."
   ]
  },
  {
   "cell_type": "code",
   "execution_count": null,
   "metadata": {},
   "outputs": [],
   "source": [
    "множество1 = {1, 2, 3}\n",
    "множество2 = {2, 3, 4}\n",
    "пересечение = множество1 & множество2\n",
    "print(пересечение)"
   ]
  },
  {
   "cell_type": "markdown",
   "metadata": {},
   "source": [
    "3. Напишите программу, которая добавляет элемент во множество."
   ]
  },
  {
   "cell_type": "code",
   "execution_count": null,
   "metadata": {},
   "outputs": [],
   "source": [
    "множество = {1, 2, 3}\n",
    "элемент = 4\n",
    "множество.add(элемент)\n",
    "print(множество)"
   ]
  },
  {
   "cell_type": "markdown",
   "metadata": {},
   "source": [
    "4. Удалите элемент из множества."
   ]
  },
  {
   "cell_type": "code",
   "execution_count": null,
   "metadata": {},
   "outputs": [],
   "source": [
    "множество = {1, 2, 3}\n",
    "элемент = 2\n",
    "множество.remove(элемент)\n",
    "print(множество)"
   ]
  },
  {
   "cell_type": "markdown",
   "metadata": {},
   "source": [
    "5. Даны два множества. Найдите их объединение."
   ]
  },
  {
   "cell_type": "code",
   "execution_count": null,
   "metadata": {},
   "outputs": [],
   "source": [
    "множество1 = {1, 2, 3}\n",
    "множество2 = {2, 3, 4}\n",
    "объединение = множество1 | множество2\n",
    "print(объединение)"
   ]
  },
  {
   "cell_type": "markdown",
   "metadata": {},
   "source": [
    "6. Создайте множество и найдите количество элементов в нём."
   ]
  },
  {
   "cell_type": "code",
   "execution_count": null,
   "metadata": {},
   "outputs": [],
   "source": [
    "множество = {1, 2, 3}\n",
    "количество_элементов = len(множество)\n",
    "print(количество_элементов)"
   ]
  },
  {
   "cell_type": "markdown",
   "metadata": {},
   "source": [
    "7. Дано множество. Проверьте, содержит ли оно определённый элемент."
   ]
  },
  {
   "cell_type": "code",
   "execution_count": null,
   "metadata": {},
   "outputs": [],
   "source": [
    "множество = {1, 2, 3}\n",
    "элемент = 2\n",
    "if элемент in множество:\n",
    "    print(\"Элемент найден\")\n",
    "else:\n",
    "    print(\"Элемент не найден\")"
   ]
  },
  {
   "cell_type": "markdown",
   "metadata": {},
   "source": [
    "8. Напишите код, который создаёт множество из списка, удаляя дубликаты."
   ]
  },
  {
   "cell_type": "code",
   "execution_count": null,
   "metadata": {},
   "outputs": [],
   "source": [
    "список = [1, 2, 2, 3, 3, 4]\n",
    "множество = set(список)\n",
    "print(множество)"
   ]
  },
  {
   "cell_type": "markdown",
   "metadata": {},
   "source": [
    "9. Даны два множества. Найдите их разность."
   ]
  },
  {
   "cell_type": "code",
   "execution_count": null,
   "metadata": {},
   "outputs": [],
   "source": [
    "множество1 = {1, 2, 3}\n",
    "множество2 = {2, 3, 4}\n",
    "разность = множество1 - множество2\n",
    "print(разность)"
   ]
  },
  {
   "cell_type": "markdown",
   "metadata": {},
   "source": [
    "10. Создайте множество и найдите максимальный элемент."
   ]
  },
  {
   "cell_type": "code",
   "execution_count": null,
   "metadata": {},
   "outputs": [],
   "source": [
    "множество = {1, 2, 3}\n",
    "максимальный_элемент = max(множество)\n",
    "print(максимальный_элемент)"
   ]
  },
  {
   "cell_type": "markdown",
   "metadata": {},
   "source": [
    "11. Дано множество. Найдите минимальный элемент."
   ]
  },
  {
   "cell_type": "code",
   "execution_count": null,
   "metadata": {},
   "outputs": [],
   "source": [
    "множество = {1, 2, 3}\n",
    "минимальный_элемент = min(множество)\n",
    "print(минимальный_элемент)"
   ]
  },
  {
   "cell_type": "markdown",
   "metadata": {},
   "source": [
    "12. Напишите программу, которая находит общие элементы между двумя множествами."
   ]
  },
  {
   "cell_type": "code",
   "execution_count": null,
   "metadata": {},
   "outputs": [],
   "source": [
    "множество1 = {1, 2, 3}\n",
    "множество2 = {2, 3, 4}\n",
    "общие_элементы = множество1 & множество2\n",
    "print(общие_элементы)"
   ]
  },
  {
   "cell_type": "markdown",
   "metadata": {},
   "source": [
    "13. Создайте множество и найдите сумму всех элементов."
   ]
  },
  {
   "cell_type": "code",
   "execution_count": null,
   "metadata": {},
   "outputs": [],
   "source": [
    "множество = {1, 2, 3}\n",
    "сумма = sum(множество)\n",
    "print(сумма)"
   ]
  },
  {
   "cell_type": "markdown",
   "metadata": {},
   "source": [
    "14. Даны два множества. Найдите симметричную разность."
   ]
  },
  {
   "cell_type": "code",
   "execution_count": null,
   "metadata": {},
   "outputs": [],
   "source": [
    "множество1 = {1, 2, 3}\n",
    "множество2 = {2, 3, 4}\n",
    "симметричная_разность = множество1 ^ множество2\n",
    "print(симметричная_разность)"
   ]
  },
  {
   "cell_type": "markdown",
   "metadata": {},
   "source": [
    "15. Создайте множество и найдите произведение всех элементов."
   ]
  },
  {
   "cell_type": "code",
   "execution_count": null,
   "metadata": {},
   "outputs": [],
   "source": [
    "множество = {1, 2, 3}\n",
    "произведение = 1\n",
    "for элемент in множество:\n",
    "    произведение *= элемент\n",
    "print(произведение)"
   ]
  },
  {
   "cell_type": "markdown",
   "metadata": {},
   "source": [
    "### Циклы for/while, условные конструкции"
   ]
  },
  {
   "cell_type": "markdown",
   "metadata": {},
   "source": [
    "1. Напишите программу, которая выводит числа от 1 до 10 с помощью цикла `for`."
   ]
  },
  {
   "cell_type": "code",
   "execution_count": null,
   "metadata": {},
   "outputs": [],
   "source": [
    "for i in range(1, 11):\n",
    "    print(i)"
   ]
  },
  {
   "cell_type": "markdown",
   "metadata": {},
   "source": [
    "2. Используя цикл `while`, попросите пользователя ввести положительное число."
   ]
  },
  {
   "cell_type": "code",
   "execution_count": null,
   "metadata": {},
   "outputs": [],
   "source": [
    "while True:\n",
    "    число = int(input(\"Введите положительное число: \"))\n",
    "    if число > 0:\n",
    "        print(\"Число положительное\")\n",
    "        break\n",
    "    else:\n",
    "        print(\"Число не положительное\")"
   ]
  },
  {
   "cell_type": "markdown",
   "metadata": {},
   "source": [
    "3. Дан список чисел. Выведите только те, которые больше 5."
   ]
  },
  {
   "cell_type": "code",
   "execution_count": null,
   "metadata": {},
   "outputs": [],
   "source": [
    "список = [1, 2, 3, 4, 5, 6, 7, 8, 9, 10]\n",
    "for число in список:\n",
    "    if число > 5:\n",
    "        print(число)"
   ]
  },
  {
   "cell_type": "markdown",
   "metadata": {},
   "source": [
    "4. Напишите программу, которая считает сумму чисел от 1 до n, где n задаёт пользователь."
   ]
  },
  {
   "cell_type": "code",
   "execution_count": null,
   "metadata": {},
   "outputs": [],
   "source": [
    "n = int(input(\"Введите число n: \"))\n",
    "сумма = 0\n",
    "for i in range(1, n + 1):\n",
    "    сумма += i\n",
    "print(\"Сумма чисел от 1 до\", n, \"равна\", сумма)"
   ]
  },
  {
   "cell_type": "markdown",
   "metadata": {},
   "source": [
    "5. Создайте программу, которая выводит таблицу умножения для числа, указанного пользователем."
   ]
  },
  {
   "cell_type": "code",
   "execution_count": null,
   "metadata": {},
   "outputs": [],
   "source": [
    "число = int(input(\"Введите число: \"))\n",
    "for i in range(1, 11):\n",
    "    print(число, \"*\", i, \"=\", число * i)"
   ]
  },
  {
   "cell_type": "markdown",
   "metadata": {},
   "source": [
    "6. Напишите программу, которая находит все простые числа до заданного числа."
   ]
  },
  {
   "cell_type": "code",
   "execution_count": null,
   "metadata": {},
   "outputs": [],
   "source": [
    "n = int(input(\"Введите число: \"))\n",
    "for i in range(2, n + 1):\n",
    "    простое = True\n",
    "    for j in range(2, int(i ** 0.5) + 1):\n",
    "        if i % j == 0:\n",
    "            простое = False\n",
    "            break\n",
    "    if простое:\n",
    "        print(i)"
   ]
  },
  {
   "cell_type": "markdown",
   "metadata": {},
   "source": [
    "7. Дан список чисел. Найдите все чётные числа с помощью цикла `for`."
   ]
  },
  {
   "cell_type": "code",
   "execution_count": null,
   "metadata": {},
   "outputs": [],
   "source": [
    "список = [1, 2, 3, 4, 5, 6, 7, 8, 9, 10]\n",
    "for число in список:\n",
    "    if число % 2 == 0:\n",
    "        print(число)"
   ]
  },
  {
   "cell_type": "markdown",
   "metadata": {},
   "source": [
    "8. Напишите код, который выводит только те строки из списка, которые содержат букву 'a'."
   ]
  },
  {
   "cell_type": "code",
   "execution_count": null,
   "metadata": {},
   "outputs": [],
   "source": [
    "список = [\"apple\", \"banana\", \"orange\", \"avocado\"]\n",
    "for строка in список:\n",
    "    if 'a' in строка:\n",
    "        print(строка)"
   ]
  },
  {
   "cell_type": "markdown",
   "metadata": {},
   "source": [
    "9. Создайте программу, которая находит факториал числа, указанного пользователем."
   ]
  },
  {
   "cell_type": "code",
   "execution_count": null,
   "metadata": {},
   "outputs": [],
   "source": [
    "n = int(input(\"Введите число: \"))\n",
    "факториал = 1\n",
    "for i in range(1, n + 1):\n",
    "    факториал *= i\n",
    "print(\"Факториал числа\", n, \"равен\", факториал)"
   ]
  },
  {
   "cell_type": "markdown",
   "metadata": {},
   "source": [
    "10. Напишите программу, которая проверяет, является ли число палиндромом."
   ]
  },
  {
   "cell_type": "code",
   "execution_count": null,
   "metadata": {},
   "outputs": [],
   "source": [
    "число = int(input(\"Введите число: \"))\n",
    "палиндром = True\n",
    "for i in range(len(str(число)) // 2):\n",
    "    if str(число)[i] != str(число)[-i - 1]:\n",
    "        палиндром = False\n",
    "        break\n",
    "if палиндром:\n",
    "    print(\"Число является палиндромом\")\n",
    "else:\n",
    "    print(\"Число не является палиндромом\")"
   ]
  },
  {
   "cell_type": "markdown",
   "metadata": {},
   "source": [
    "11. Дан список строк. Найдите все строки, длина которых больше 5."
   ]
  },
  {
   "cell_type": "code",
   "execution_count": null,
   "metadata": {},
   "outputs": [],
   "source": [
    "список = [\"apple\", \"banana\", \"orange\", \"avocado\", \"grape\"]\n",
    "for строка in список:\n",
    "    if len(строка) > 5:\n",
    "        print(строка)"
   ]
  },
  {
   "cell_type": "markdown",
   "metadata": {},
   "source": [
    "12. Напишите код, который находит наибольшее число среди введённых пользователем."
   ]
  },
  {
   "cell_type": "code",
   "execution_count": null,
   "metadata": {},
   "outputs": [],
   "source": [
    "числа = []\n",
    "while True:\n",
    "    число = input(\"Введите число (или 'q' для выхода): \")\n",
    "    if число.lower() == 'q':\n",
    "        break\n",
    "    числа.append(int(число))\n",
    "print(\"Наибольшее число:\", max(числа))"
   ]
  },
  {
   "cell_type": "markdown",
   "metadata": {},
   "source": [
    "13. Создайте программу, которая выводит числа Фибоначчи до заданного числа."
   ]
  },
  {
   "cell_type": "code",
   "execution_count": null,
   "metadata": {},
   "outputs": [],
   "source": [
    "n = int(input(\"Введите число: \"))\n",
    "a, b = 0, 1\n",
    "while a < n:\n",
    "    print(a)\n",
    "    a, b = b, a + b"
   ]
  },
  {
   "cell_type": "markdown",
   "metadata": {},
   "source": [
    "14. Напишите программу, которая находит наибольший общий делитель двух чисел."
   ]
  },
  {
   "cell_type": "code",
   "execution_count": null,
   "metadata": {},
   "outputs": [],
   "source": [
    "def gcd(a, b):\n",
    "    while b != 0:\n",
    "        a, b = b, a % b\n",
    "    return a\n",
    "\n",
    "a = int(input(\"Введите первое число: \"))\n",
    "b = int(input(\"Введите второе число: \"))\n",
    "print(\"Наибольший общий делитель:\", gcd(a, b))"
   ]
  },
  {
   "cell_type": "markdown",
   "metadata": {},
   "source": [
    "15. Дан список чисел. Найдите все числа, которые делятся на 3 и 5 одновременно."
   ]
  },
  {
   "cell_type": "code",
   "execution_count": null,
   "metadata": {},
   "outputs": [],
   "source": [
    "список = [1, 2, 3, 4, 5, 6, 7, 8, 9, 10, 15, 30]\n",
    "for число in список:\n",
    "    if число % 3 == 0 and число % 5 == 0:\n",
    "        print(число)"
   ]
  },
  {
   "cell_type": "markdown",
   "metadata": {},
   "source": [
    "16. Напишите программу, которая выводит звёздный треугольник заданной высоты."
   ]
  },
  {
   "cell_type": "code",
   "execution_count": null,
   "metadata": {},
   "outputs": [],
   "source": [
    "n = int(input(\"Введите высоту треугольника: \"))\n",
    "for i in range(n):\n",
    "    print(\" \" * (n - i - 1) + \"*\" * (2 * i + 1))"
   ]
  },
  {
   "cell_type": "markdown",
   "metadata": {},
   "source": [
    "### Базовое применение функций"
   ]
  },
  {
   "cell_type": "markdown",
   "metadata": {},
   "source": [
    "1. Напишите функцию, которая складывает два числа и возвращает результат."
   ]
  },
  {
   "cell_type": "code",
   "execution_count": null,
   "metadata": {},
   "outputs": [],
   "source": [
    "def сложить(a, b):\n",
    "    return a + b\n",
    "\n",
    "print(сложить(2, 3))"
   ]
  },
  {
   "cell_type": "markdown",
   "metadata": {},
   "source": [
    "2. Создайте функцию, которая принимает список чисел и возвращает их сумму."
   ]
  },
  {
   "cell_type": "code",
   "execution_count": null,
   "metadata": {},
   "outputs": [],
   "source": [
    "def сумма_списка(список):\n",
    "    return sum(список)\n",
    "\n",
    "print(сумма_списка([1, 2, 3, 4, 5]))"
   ]
  },
  {
   "cell_type": "markdown",
   "metadata": {},
   "source": [
    "3. Напишите функцию, которая принимает строку и возвращает её в обратном порядке."
   ]
  },
  {
   "cell_type": "code",
   "execution_count": null,
   "metadata": {},
   "outputs": [],
   "source": [
    "def обратная_строка(строка):\n",
    "    return строка[::-1]\n",
    "\n",
    "print(обратная_строка(\"orang\"))"
   ]
  },
  {
   "cell_type": "markdown",
   "metadata": {},
   "source": [
    "4. Создайте функцию, которая принимает список строк и возвращает только те, которые содержат букву 'a'."
   ]
  },
  {
   "cell_type": "code",
   "execution_count": null,
   "metadata": {},
   "outputs": [],
   "source": [
    "def строки_с_а(список):\n",
    "    return [строка for строка in список if 'a' in строка]\n",
    "\n",
    "print(строки_с_а([\"apple\", \"banana\", \"orange\", \"kivi\"])"
   ]
  },
  {
   "cell_type": "markdown",
   "metadata": {},
   "source": [
    "5. Напишите функцию, которая принимает число и возвращает True, если оно простое, и False в противном случае."
   ]
  },
  {
   "cell_type": "code",
   "execution_count": null,
   "metadata": {},
   "outputs": [],
   "source": [
    "def простое_число(n):\n",
    "    if n <= 1:\n",
    "        return False\n",
    "    for i in range(2, int(n ** 0.5) + 1):\n",
    "        if n % i == 0:\n",
    "            return False\n",
    "    return True\n",
    "\n",
    "print(простое_число(1))\n",
    "print(простое_число(8))"
   ]
  },
  {
   "cell_type": "markdown",
   "metadata": {},
   "source": [
    "6. Создайте функцию, которая принимает список чисел и возвращает новый список без дубликатов."
   ]
  },
  {
   "cell_type": "code",
   "execution_count": null,
   "metadata": {},
   "outputs": [],
   "source": [
    "def список_без_дубликатов(список):\n",
    "    return list(set(список))\n",
    "\n",
    "print(список_без_дубликатов([1, 2, 2, 3, 4, 4, 5]))"
   ]
  },
  {
   "cell_type": "markdown",
   "metadata": {},
   "source": [
    "7. Напишите функцию, которая принимает строку и возвращает количество уникальных символов."
   ]
  },
  {
   "cell_type": "code",
   "execution_count": null,
   "metadata": {},
   "outputs": [],
   "source": [
    "def количество_уникальных_символов(строка):\n",
    "    return len(set(строка))\n",
    "\n",
    "print(количество_уникальных_символов(\"priveet\"))"
   ]
  },
  {
   "cell_type": "markdown",
   "metadata": {},
   "source": [
    "8. Создайте функцию, которая принимает два списка и возвращает их пересечение."
   ]
  },
  {
   "cell_type": "code",
   "execution_count": null,
   "metadata": {},
   "outputs": [],
   "source": [
    "def пересечение_списков(список1, список2):\n",
    "    return list(set(список1) & set(список2))\n",
    "\n",
    "print(пересечение_списков([1, 2, 3, 4, 5], [4, 5, 6, 7, 8]))"
   ]
  },
  {
   "cell_type": "markdown",
   "metadata": {},
   "source": [
    "9. Напишите функцию, которая принимает строку и возвращает её без пробелов."
   ]
  },
  {
   "cell_type": "code",
   "execution_count": null,
   "metadata": {},
   "outputs": [],
   "source": [
    "def строка_без_пробелов(строка):\n",
    "    return строка.replace(\" \", \"\")\n",
    "\n",
    "print(строка_без_пробелов(\"hello hello gritings world\"))"
   ]
  },
  {
   "cell_type": "markdown",
   "metadata": {},
   "source": [
    "10. Создайте функцию, которая принимает список чисел и возвращает среднее значение."
   ]
  },
  {
   "cell_type": "code",
   "execution_count": null,
   "metadata": {},
   "outputs": [],
   "source": [
    "def среднее_значение(список):\n",
    "    return sum(список) / len(список)\n",
    "\n",
    "print(среднее_значение([1, 2, 3, 4, 5, 10, 40, 100]))"
   ]
  }
 ],
 "metadata": {
  "language_info": {
   "name": "python"
  }
 },
 "nbformat": 4,
 "nbformat_minor": 2
}
